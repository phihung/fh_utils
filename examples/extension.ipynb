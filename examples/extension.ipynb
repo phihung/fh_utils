{
 "cells": [
  {
   "cell_type": "code",
   "execution_count": 5,
   "metadata": {},
   "outputs": [],
   "source": [
    "# !pip install fh_utils\n",
    "%reload_ext fh_utils\n",
    "# %fh?"
   ]
  },
  {
   "cell_type": "code",
   "execution_count": 6,
   "metadata": {},
   "outputs": [
    {
     "data": {
      "text/plain": [
       "App run at http://0.0.0.0:5004/"
      ]
     },
     "metadata": {},
     "output_type": "display_data"
    },
    {
     "data": {
      "text/html": [
       "\n",
       "        <iframe\n",
       "            width=\"50%\"\n",
       "            height=\"200\"\n",
       "            src=\"http://0.0.0.0:5004/?allow=autoplay%3B+camera%3B+microphone%3B+clipboard-read%3B+clipboard-write%3B&frameborder=0\"\n",
       "            frameborder=\"0\"\n",
       "            allowfullscreen\n",
       "            allowfullscreen\n",
       "        ></iframe>\n",
       "        "
      ],
      "text/plain": [
       "<IPython.lib.display.IFrame at 0x11805f9d0>"
      ]
     },
     "metadata": {},
     "output_type": "display_data"
    },
    {
     "data": {
      "text/plain": []
     },
     "execution_count": 6,
     "metadata": {},
     "output_type": "execute_result"
    }
   ],
   "source": [
    "from fasthtml.common import Title, Main, H1, P, Button, fast_app\n",
    "\n",
    "app, rt = fast_app()\n",
    "count = 0\n",
    "\n",
    "\n",
    "@rt(\"/\")\n",
    "def home():\n",
    "    return Title(\"Count Demo\"), Main(\n",
    "        H1(\"Count Demo\"),\n",
    "        P(f\"Count is set to {count}\", id=\"count\"),\n",
    "        Button(\"Increment\", hx_post=\"/increment\", hx_target=\"#count\", hx_swap=\"innerHTML\"),\n",
    "    )\n",
    "\n",
    "\n",
    "@rt\n",
    "def increment():\n",
    "    global count\n",
    "    count += 1\n",
    "    return f\"Count is set to {count}\"\n",
    "\n",
    "\n",
    "%fh app -w 50% -h 200"
   ]
  },
  {
   "cell_type": "code",
   "execution_count": 7,
   "metadata": {},
   "outputs": [
    {
     "name": "stdout",
     "output_type": "stream",
     "text": [
      "Current count is 6\n"
     ]
    }
   ],
   "source": [
    "# Value of *count* in the notebook is the same as in the app\n",
    "print(\"Current count is\", count)"
   ]
  },
  {
   "cell_type": "code",
   "execution_count": 8,
   "metadata": {},
   "outputs": [
    {
     "data": {
      "text/plain": [
       "App run at http://0.0.0.0:5004/"
      ]
     },
     "metadata": {},
     "output_type": "display_data"
    },
    {
     "data": {
      "text/html": [
       "\n",
       "        <iframe\n",
       "            width=\"50%\"\n",
       "            height=\"200\"\n",
       "            src=\"http://0.0.0.0:5004/?allow=autoplay%3B+camera%3B+microphone%3B+clipboard-read%3B+clipboard-write%3B&frameborder=0\"\n",
       "            frameborder=\"0\"\n",
       "            allowfullscreen\n",
       "            allowfullscreen\n",
       "        ></iframe>\n",
       "        "
      ],
      "text/plain": [
       "<IPython.lib.display.IFrame at 0x11824b0d0>"
      ]
     },
     "metadata": {},
     "output_type": "display_data"
    },
    {
     "data": {
      "text/plain": []
     },
     "execution_count": 8,
     "metadata": {},
     "output_type": "execute_result"
    }
   ],
   "source": [
    "# Update some code and rerun\n",
    "count = 1234\n",
    "%fh app -w 50% -h 200"
   ]
  },
  {
   "cell_type": "code",
   "execution_count": null,
   "metadata": {},
   "outputs": [],
   "source": []
  }
 ],
 "metadata": {
  "kernelspec": {
   "display_name": ".venv",
   "language": "python",
   "name": "python3"
  },
  "language_info": {
   "codemirror_mode": {
    "name": "ipython",
    "version": 3
   },
   "file_extension": ".py",
   "mimetype": "text/x-python",
   "name": "python",
   "nbconvert_exporter": "python",
   "pygments_lexer": "ipython3",
   "version": "3.11.4"
  }
 },
 "nbformat": 4,
 "nbformat_minor": 2
}
